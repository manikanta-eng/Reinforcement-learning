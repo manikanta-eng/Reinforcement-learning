{
  "nbformat": 4,
  "nbformat_minor": 0,
  "metadata": {
    "colab": {
      "provenance": [],
      "authorship_tag": "ABX9TyNw9ToD2iyLtAdDVN1M8+W7",
      "include_colab_link": true
    },
    "kernelspec": {
      "name": "python3",
      "display_name": "Python 3"
    },
    "language_info": {
      "name": "python"
    }
  },
  "cells": [
    {
      "cell_type": "markdown",
      "metadata": {
        "id": "view-in-github",
        "colab_type": "text"
      },
      "source": [
        "<a href=\"https://colab.research.google.com/github/manikanta-eng/Reinforcement-learning/blob/main/lab_05_rml.ipynb\" target=\"_parent\"><img src=\"https://colab.research.google.com/assets/colab-badge.svg\" alt=\"Open In Colab\"/></a>"
      ]
    },
    {
      "cell_type": "markdown",
      "source": [
        "##Implementing Q-Learning for discrete action space problems -e.g., Ta Reinforcement"
      ],
      "metadata": {
        "id": "KlewsKFUDtSV"
      }
    },
    {
      "cell_type": "code",
      "execution_count": 1,
      "metadata": {
        "colab": {
          "base_uri": "https://localhost:8080/"
        },
        "id": "sKpVvnL9DBVH",
        "outputId": "487ff77d-86fd-4b62-e33b-1190a23d6f14"
      },
      "outputs": [
        {
          "output_type": "stream",
          "name": "stdout",
          "text": [
            "Episode 2000, Avg Reward (last 2000): -183.83, ε=0.135\n",
            "Episode 4000, Avg Reward (last 2000): 4.87, ε=0.018\n",
            "Episode 6000, Avg Reward (last 2000): 7.25, ε=0.010\n",
            "Episode 8000, Avg Reward (last 2000): 7.44, ε=0.010\n",
            "Episode 10000, Avg Reward (last 2000): 7.42, ε=0.010\n",
            "Episode 12000, Avg Reward (last 2000): 7.36, ε=0.010\n",
            "Episode 14000, Avg Reward (last 2000): 7.36, ε=0.010\n",
            "Episode 16000, Avg Reward (last 2000): 7.41, ε=0.010\n",
            "Episode 18000, Avg Reward (last 2000): 7.40, ε=0.010\n",
            "Episode 20000, Avg Reward (last 2000): 7.36, ε=0.010\n",
            "\n",
            "=== Taxi-v3 Evaluation ===\n",
            "Average Return: 7.99\n",
            "Success Rate: 100.0%\n",
            "\n",
            "Sample Q-table (first 5 states):\n",
            " [[  0.           0.           0.           0.           0.\n",
            "    0.        ]\n",
            " [  2.43515925   2.65239587   2.00028705   0.66096351   9.6220697\n",
            "   -4.24779593]\n",
            " [  7.29318517   6.64161177   3.20039978   8.18530935  14.11880599\n",
            "    0.10818399]\n",
            " [  4.24362962   2.95679373  -2.37878975   1.87810232  10.72936333\n",
            "   -4.12537617]\n",
            " [  1.13164151  -7.80703145  -7.76261824  -7.75879959 -14.45319927\n",
            "  -14.58531102]]\n"
          ]
        }
      ],
      "source": [
        "import gymnasium as gym\n",
        "import numpy as np\n",
        "\n",
        "# Environment\n",
        "env = gym.make(\"Taxi-v3\")\n",
        "nS, nA = env.observation_space.n, env.action_space.n\n",
        "Q = np.zeros((nS, nA))\n",
        "\n",
        "# Hyperparameters\n",
        "episodes = 20000\n",
        "gamma, alpha = 0.99, 0.1\n",
        "eps, eps_min, eps_decay = 1.0, 0.01, 0.999\n",
        "\n",
        "# Training\n",
        "all_rewards = []\n",
        "for ep in range(1, episodes + 1):\n",
        "    s, _ = env.reset()\n",
        "    done, total_r = False, 0\n",
        "    while not done:\n",
        "        a = env.action_space.sample() if np.random.rand() < eps else np.argmax(Q[s])\n",
        "        s2, r, terminated, truncated, _ = env.step(a)\n",
        "        done = terminated or truncated\n",
        "        Q[s, a] += alpha * (r + gamma * np.max(Q[s2]) - Q[s, a])\n",
        "        s = s2\n",
        "        total_r += r\n",
        "    eps = max(eps_min, eps * eps_decay)\n",
        "    all_rewards.append(total_r)\n",
        "\n",
        "    # Progress log\n",
        "    if ep % 2000 == 0:\n",
        "        avg_r = np.mean(all_rewards[-2000:])\n",
        "        print(f\"Episode {ep}, Avg Reward (last 2000): {avg_r:.2f}, ε={eps:.3f}\")\n",
        "\n",
        "# Evaluation\n",
        "def evaluate(n_eval=100):\n",
        "    total, successes = 0, 0\n",
        "    for _ in range(n_eval):\n",
        "        s, _ = env.reset()\n",
        "        done, ep_r = False, 0\n",
        "        while not done:\n",
        "            a = np.argmax(Q[s])\n",
        "            s, r, terminated, truncated, _ = env.step(a)\n",
        "            done = terminated or truncated\n",
        "            ep_r += r\n",
        "        total += ep_r\n",
        "        if ep_r > 0:  # success in Taxi\n",
        "            successes += 1\n",
        "    return total / n_eval, successes / n_eval * 100\n",
        "\n",
        "avg_return, success_rate = evaluate()\n",
        "print(\"\\n=== Taxi-v3 Evaluation ===\")\n",
        "print(f\"Average Return: {avg_return:.2f}\")\n",
        "print(f\"Success Rate: {success_rate:.1f}%\")\n",
        "print(\"\\nSample Q-table (first 5 states):\\n\", Q[:5])\n"
      ]
    },
    {
      "cell_type": "code",
      "source": [
        "import gymnasium as gym\n",
        "import numpy as np\n",
        "\n",
        "# Environment\n",
        "env = gym.make(\"FrozenLake-v1\", is_slippery=False)  # change to True for stochastic env\n",
        "nS, nA = env.observation_space.n, env.action_space.n\n",
        "Q = np.zeros((nS, nA))\n",
        "\n",
        "# Hyperparameters\n",
        "episodes = 10000\n",
        "gamma, alpha = 0.99, 0.1\n",
        "eps, eps_min, eps_decay = 1.0, 0.01, 0.995\n",
        "\n",
        "# Training\n",
        "all_rewards = []\n",
        "for ep in range(1, episodes + 1):\n",
        "    s, _ = env.reset()\n",
        "    done, total_r = False, 0\n",
        "    while not done:\n",
        "        a = env.action_space.sample() if np.random.rand() < eps else np.argmax(Q[s])\n",
        "        s2, r, terminated, truncated, _ = env.step(a)\n",
        "        done = terminated or truncated\n",
        "        Q[s, a] += alpha * (r + gamma * np.max(Q[s2]) - Q[s, a])\n",
        "        s = s2\n",
        "        total_r += r\n",
        "    eps = max(eps_min, eps * eps_decay)\n",
        "    all_rewards.append(total_r)\n",
        "\n",
        "    # Progress log\n",
        "    if ep % 1000 == 0:\n",
        "        avg_r = np.mean(all_rewards[-1000:])\n",
        "        print(f\"Episode {ep}, Avg Reward (last 1000): {avg_r:.2f}, ε={eps:.3f}\")\n",
        "\n",
        "# Evaluation\n",
        "def evaluate(n_eval=100):\n",
        "    successes = 0\n",
        "    for _ in range(n_eval):\n",
        "        s, _ = env.reset()\n",
        "        done = False\n",
        "        while not done:\n",
        "            a = np.argmax(Q[s])\n",
        "            s, r, terminated, truncated, _ = env.step(a)\n",
        "            done = terminated or truncated\n",
        "            if r == 1:\n",
        "                successes += 1\n",
        "    return successes / n_eval * 100\n",
        "\n",
        "success_rate = evaluate()\n",
        "print(\"\\n=== FrozenLake-v1 Evaluation ===\")\n",
        "print(f\"Success Rate: {success_rate:.1f}%\")\n",
        "print(\"\\nSample Q-table (first 5 states):\\n\", Q[:5])\n"
      ],
      "metadata": {
        "colab": {
          "base_uri": "https://localhost:8080/"
        },
        "id": "PmCiV0j8DKC9",
        "outputId": "c72de9db-cc81-471c-8f31-aee2b9818821"
      },
      "execution_count": 2,
      "outputs": [
        {
          "output_type": "stream",
          "name": "stdout",
          "text": [
            "Episode 1000, Avg Reward (last 1000): 0.00, ε=0.010\n",
            "Episode 2000, Avg Reward (last 1000): 0.00, ε=0.010\n",
            "Episode 3000, Avg Reward (last 1000): 0.00, ε=0.010\n",
            "Episode 4000, Avg Reward (last 1000): 0.00, ε=0.010\n",
            "Episode 5000, Avg Reward (last 1000): 0.00, ε=0.010\n",
            "Episode 6000, Avg Reward (last 1000): 0.00, ε=0.010\n",
            "Episode 7000, Avg Reward (last 1000): 0.00, ε=0.010\n",
            "Episode 8000, Avg Reward (last 1000): 0.00, ε=0.010\n",
            "Episode 9000, Avg Reward (last 1000): 0.00, ε=0.010\n",
            "Episode 10000, Avg Reward (last 1000): 0.00, ε=0.010\n",
            "\n",
            "=== FrozenLake-v1 Evaluation ===\n",
            "Success Rate: 0.0%\n",
            "\n",
            "Sample Q-table (first 5 states):\n",
            " [[0. 0. 0. 0.]\n",
            " [0. 0. 0. 0.]\n",
            " [0. 0. 0. 0.]\n",
            " [0. 0. 0. 0.]\n",
            " [0. 0. 0. 0.]]\n"
          ]
        }
      ]
    }
  ]
}