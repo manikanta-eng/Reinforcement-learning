{
  "nbformat": 4,
  "nbformat_minor": 0,
  "metadata": {
    "colab": {
      "provenance": [],
      "authorship_tag": "ABX9TyMlncfyQPjdFsNKfgG7Rk2X",
      "include_colab_link": true
    },
    "kernelspec": {
      "name": "python3",
      "display_name": "Python 3"
    },
    "language_info": {
      "name": "python"
    }
  },
  "cells": [
    {
      "cell_type": "markdown",
      "metadata": {
        "id": "view-in-github",
        "colab_type": "text"
      },
      "source": [
        "<a href=\"https://colab.research.google.com/github/manikanta-eng/Reinforcement-learning/blob/main/lab_01_rml.ipynb\" target=\"_parent\"><img src=\"https://colab.research.google.com/assets/colab-badge.svg\" alt=\"Open In Colab\"/></a>"
      ]
    },
    {
      "cell_type": "code",
      "source": [
        "import numpy as np\n",
        "\n",
        "# Define the MDP\n",
        "# Example: Gridworld MDP with 4 states and 2 actions (left, right)\n",
        "num_states = 4\n",
        "num_actions = 2\n",
        "P = np.zeros((num_states, num_actions, num_states))  # Transition probabilities\n",
        "R = np.zeros((num_states, num_actions, num_states))  # Rewards\n",
        "\n",
        "# Define transitions and rewards (example)\n",
        "# State 0\n",
        "P[0, 0, 0] = 1.0  # If at state 0 and action left, stays at state 0\n",
        "P[0, 1, 1] = 1.0  # If at state 0 and action right, moves to state 1\n",
        "R[0, 0, 0] = 0.0  # Reward for staying at state 0\n",
        "R[0, 1, 1] = 1.0  # Reward for moving to state 1\n",
        "\n",
        "# State 1\n",
        "P[1, 0, 0] = 0.8\n",
        "P[1, 0, 1] = 0.2\n",
        "P[1, 1, 2] = 1.0\n",
        "R[1, 0, 0] = 0.8\n",
        "R[1, 0, 1] = 0.2\n",
        "R[1, 1, 2] = 1.0\n",
        "\n",
        "# State 2\n",
        "P[2, 0, 1] = 1.0\n",
        "P[2, 1, 3] = 1.0\n",
        "R[2, 0, 1] = 1.0\n",
        "R[2, 1, 3] = 1.0\n",
        "\n",
        "# State 3\n",
        "P[3, 0, 2] = 1.0\n",
        "P[3, 1, 3] = 1.0\n",
        "R[3, 0, 2] = 1.0\n",
        "R[3, 1, 3] = 1.0\n",
        "\n",
        "\n",
        "# Value iteration function\n",
        "def value_iteration(P, R, gamma=0.9, epsilon=1e-6):\n",
        "    num_states, num_actions, _ = P.shape\n",
        "    V = np.zeros(num_states)\n",
        "    while True:\n",
        "        V_prev = np.copy(V)\n",
        "        for s in range(num_states):\n",
        "            Q_s = np.zeros(num_actions)\n",
        "            for a in range(num_actions):\n",
        "                Q_s[a] = np.sum(P[s, a] * (R[s, a] + gamma * V_prev))\n",
        "            V[s] = np.max(Q_s)\n",
        "        if np.max(np.abs(V - V_prev)) < epsilon:\n",
        "            break\n",
        "    # Extract policy\n",
        "    policy = np.zeros(num_states, dtype=int)\n",
        "    for s in range(num_states):\n",
        "        Q_s = np.zeros(num_actions)\n",
        "        for a in range(num_actions):\n",
        "            Q_s[a] = np.sum(P[s, a] * (R[s, a] + gamma * V))\n",
        "        policy[s] = np.argmax(Q_s)\n",
        "    return V, policy\n",
        "\n",
        "# Run value iteration\n",
        "optimal_V, optimal_policy = value_iteration(P, R)\n",
        "\n",
        "print(\"Optimal Value Function:\")\n",
        "print(optimal_V)\n",
        "print(\"Optimal Policy (0: Left, 1: Right):\")\n",
        "print(optimal_policy)\n"
      ],
      "metadata": {
        "colab": {
          "base_uri": "https://localhost:8080/"
        },
        "id": "V38IV_ti7_ZP",
        "outputId": "e8456043-529a-41dd-d220-c5516038690d"
      },
      "execution_count": 4,
      "outputs": [
        {
          "output_type": "stream",
          "name": "stdout",
          "text": [
            "Optimal Value Function:\n",
            "[9.99999179 9.99999179 9.99999179 9.99999179]\n",
            "Optimal Policy (0: Left, 1: Right):\n",
            "[1 1 0 0]\n"
          ]
        }
      ]
    },
    {
      "cell_type": "code",
      "source": [
        "def policy_iteration(P, R, gamma=0.9, epsilon=1e-6):\n",
        "    num_states, num_actions, _ = P.shape\n",
        "    policy = np.random.randint(num_actions, size=num_states)  # Initialize policy randomly\n",
        "    while True:\n",
        "        # Policy Evaluation\n",
        "        V = np.zeros(num_states)\n",
        "        while True:\n",
        "            V_prev = np.copy(V)\n",
        "            for s in range(num_states):\n",
        "                a = policy[s]\n",
        "                V[s] = np.sum(P[s, a] * (R[s, a] + gamma * V_prev))\n",
        "            if np.max(np.abs(V - V_prev)) < epsilon:\n",
        "                break\n",
        "\n",
        "        # Policy Improvement\n",
        "        policy_stable = True\n",
        "        for s in range(num_states):\n",
        "            old_action = policy[s]\n",
        "            Q_s = np.zeros(num_actions)\n",
        "            for a in range(num_actions):\n",
        "                Q_s[a] = np.sum(P[s, a] * (R[s, a] + gamma * V))\n",
        "            policy[s] = np.argmax(Q_s)\n",
        "            if old_action != policy[s]:\n",
        "                policy_stable = False\n",
        "        if policy_stable:\n",
        "            break\n",
        "    return V, policy\n",
        "\n",
        "# Run policy iteration\n",
        "optimal_V_policy, optimal_policy_policy = policy_iteration(P, R)\n",
        "\n",
        "print(\"Optimal Value Function (Policy Iteration):\")\n",
        "print(optimal_V_policy)\n",
        "print(\"Optimal Policy (Policy Iteration, 0: Left, 1: Right):\")\n",
        "print(optimal_policy_policy)\n"
      ],
      "metadata": {
        "colab": {
          "base_uri": "https://localhost:8080/"
        },
        "id": "_IGrwVyM8BBw",
        "outputId": "fdbe4529-0db1-442b-bee8-04523cc947ed"
      },
      "execution_count": 5,
      "outputs": [
        {
          "output_type": "stream",
          "name": "stdout",
          "text": [
            "Optimal Value Function (Policy Iteration):\n",
            "[9.99999179 9.99999179 9.99999179 9.99999179]\n",
            "Optimal Policy (Policy Iteration, 0: Left, 1: Right):\n",
            "[1 1 0 0]\n"
          ]
        }
      ]
    },
    {
      "cell_type": "code",
      "source": [
        "import numpy as np\n",
        "\n",
        "# Define the MDP for 5 states and 2 actions\n",
        "num_states = 5\n",
        "num_actions = 2\n",
        "P = np.zeros((num_states, num_actions, num_states))  # Transition probabilities\n",
        "R = np.zeros((num_states, num_actions, num_states))  # Rewards\n",
        "\n",
        "# Define transitions and rewards\n",
        "\n",
        "# State 0\n",
        "P[0, 0, 0] = 1.0   # Left → stay\n",
        "R[0, 0, 0] = 0.0\n",
        "P[0, 1, 1] = 1.0   # Right → to state 1\n",
        "R[0, 1, 1] = 1.0\n",
        "\n",
        "# State 1\n",
        "P[1, 0, 0] = 0.5\n",
        "P[1, 0, 1] = 0.5\n",
        "R[1, 0, 0] = 0.5\n",
        "R[1, 0, 1] = 0.5\n",
        "P[1, 1, 2] = 1.0\n",
        "R[1, 1, 2] = 2.0\n",
        "\n",
        "# State 2\n",
        "P[2, 0, 1] = 1.0\n",
        "R[2, 0, 1] = 1.0\n",
        "P[2, 1, 3] = 1.0\n",
        "R[2, 1, 3] = 2.0\n",
        "\n",
        "# State 3\n",
        "P[3, 0, 2] = 0.6\n",
        "P[3, 0, 3] = 0.4\n",
        "R[3, 0, 2] = 1.0\n",
        "R[3, 0, 3] = 0.5\n",
        "P[3, 1, 4] = 1.0\n",
        "R[3, 1, 4] = 3.0\n",
        "\n",
        "# State 4\n",
        "P[4, 0, 3] = 1.0\n",
        "R[4, 0, 3] = 1.0\n",
        "P[4, 1, 4] = 1.0\n",
        "R[4, 1, 4] = 0.0\n",
        "\n",
        "# Value iteration function\n",
        "def value_iteration(P, R, gamma=0.9, epsilon=1e-6):\n",
        "    num_states, num_actions, _ = P.shape\n",
        "    V = np.zeros(num_states)\n",
        "    while True:\n",
        "        V_prev = np.copy(V)\n",
        "        for s in range(num_states):\n",
        "            Q_s = np.zeros(num_actions)\n",
        "            for a in range(num_actions):\n",
        "                Q_s[a] = np.sum(P[s, a] * (R[s, a] + gamma * V_prev))\n",
        "            V[s] = np.max(Q_s)\n",
        "        if np.max(np.abs(V - V_prev)) < epsilon:\n",
        "            break\n",
        "    # Extract policy\n",
        "    policy = np.zeros(num_states, dtype=int)\n",
        "    for s in range(num_states):\n",
        "        Q_s = np.zeros(num_actions)\n",
        "        for a in range(num_actions):\n",
        "            Q_s[a] = np.sum(P[s, a] * (R[s, a] + gamma * V))\n",
        "        policy[s] = np.argmax(Q_s)\n",
        "    return V, policy\n",
        "\n",
        "# Run value iteration\n",
        "optimal_V, optimal_policy = value_iteration(P, R)\n",
        "\n",
        "print(\"Optimal Value Function:\")\n",
        "print(optimal_V)\n",
        "print(\"Optimal Policy (0: Left, 1: Right):\")\n",
        "print(optimal_policy)\n"
      ],
      "metadata": {
        "colab": {
          "base_uri": "https://localhost:8080/"
        },
        "id": "T-i5E6pa8HZx",
        "outputId": "fca685eb-b5f3-4930-9bd9-aa88a147d3a9"
      },
      "execution_count": 6,
      "outputs": [
        {
          "output_type": "stream",
          "name": "stdout",
          "text": [
            "Optimal Value Function:\n",
            "[19.38367834 20.42631022 20.47367834 20.52631022 19.47367834]\n",
            "Optimal Policy (0: Left, 1: Right):\n",
            "[1 1 1 1 0]\n"
          ]
        }
      ]
    }
  ]
}