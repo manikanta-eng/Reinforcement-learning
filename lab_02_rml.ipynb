{
  "nbformat": 4,
  "nbformat_minor": 0,
  "metadata": {
    "colab": {
      "provenance": [],
      "authorship_tag": "ABX9TyNx8LNvTuQNzP2xR1PQQCPv",
      "include_colab_link": true
    },
    "kernelspec": {
      "name": "python3",
      "display_name": "Python 3"
    },
    "language_info": {
      "name": "python"
    }
  },
  "cells": [
    {
      "cell_type": "markdown",
      "metadata": {
        "id": "view-in-github",
        "colab_type": "text"
      },
      "source": [
        "<a href=\"https://colab.research.google.com/github/manikanta-eng/Reinforcement-learning/blob/main/lab_02_rml.ipynb\" target=\"_parent\"><img src=\"https://colab.research.google.com/assets/colab-badge.svg\" alt=\"Open In Colab\"/></a>"
      ]
    },
    {
      "cell_type": "code",
      "execution_count": 1,
      "metadata": {
        "id": "WZer52uf1x9G"
      },
      "outputs": [],
      "source": [
        "import gymnasium as gym\n",
        "import numpy as np\n",
        "from collections import defaultdict"
      ]
    },
    {
      "cell_type": "code",
      "source": [
        "env = gym.make('Blackjack-v1', sab=True)\n",
        "\n",
        "# Function to create a random policy\n",
        "def create_random_policy(env):\n",
        "    return lambda state: np.random.choice(env.action_space.n)\n",
        "\n",
        "# Function to create a greedy policy based on Q-values\n",
        "def create_greedy_policy(Q):\n",
        "    def policy_fn(state):\n",
        "        return np.argmax(Q[state])\n",
        "    return policy_fn"
      ],
      "metadata": {
        "id": "CL_keh8_2C7j"
      },
      "execution_count": 2,
      "outputs": []
    },
    {
      "cell_type": "code",
      "source": [
        "def mc_policy_evaluation(policy, env, num_episodes, gamma=1.0):\n",
        "    returns_sum = defaultdict(float)\n",
        "    returns_count = defaultdict(float)\n",
        "    V = defaultdict(float)\n",
        "\n",
        "    for _ in range(num_episodes):\n",
        "        episode = []\n",
        "        state = env.reset()[0]\n",
        "        done = False\n",
        "\n",
        "        while not done:\n",
        "            action = policy(state)\n",
        "            next_state, reward, terminated, truncated, _ = env.step(action)\n",
        "            done = terminated or truncated # Blackjack env can be terminated or truncated\n",
        "            episode.append((state, action, reward))\n",
        "            state = next_state\n",
        "\n",
        "        visited_states = set()\n",
        "        G = 0\n",
        "        for state, action, reward in reversed(episode):\n",
        "            G = gamma * G + reward\n",
        "            if state not in visited_states:\n",
        "                returns_sum[state] += G\n",
        "                returns_count[state] += 1\n",
        "                V[state] = returns_sum[state] / returns_count[state]\n",
        "                visited_states.add(state)\n",
        "    return V"
      ],
      "metadata": {
        "id": "8Kdzo5iN2FWm"
      },
      "execution_count": 3,
      "outputs": []
    },
    {
      "cell_type": "code",
      "source": [
        "def mc_control_epsilon_greedy(env, num_episodes, gamma=1.0, epsilon=0.1):\n",
        "    Q = defaultdict(lambda: np.zeros(env.action_space.n))\n",
        "\n",
        "    def policy_fn(state):\n",
        "        if np.random.rand() < epsilon:\n",
        "            return np.random.choice(env.action_space.n)\n",
        "        else:\n",
        "            return np.argmax(Q[state])\n",
        "\n",
        "    for _ in range(num_episodes):\n",
        "        episode = []\n",
        "        state = env.reset()[0]\n",
        "        done = False\n",
        "\n",
        "        while not done:\n",
        "            action = policy_fn(state)\n",
        "            next_state, reward, terminated, truncated, _ = env.step(action)\n",
        "            done = terminated or truncated # Blackjack env can be terminated or truncated\n",
        "            episode.append((state, action, reward))\n",
        "            state = next_state\n",
        "\n",
        "        visited_state_action_pairs = set()\n",
        "        G = 0\n",
        "        for state, action, reward in reversed(episode):\n",
        "            G = gamma * G + reward\n",
        "            if (state, action) not in visited_state_action_pairs:\n",
        "                old_q = Q[state][action]\n",
        "                Q[state][action] = old_q + (G - old_q) / (1 + sum(1 for s, a, r in episode if s == state and a == action))\n",
        "                visited_state_action_pairs.add((state, action))\n",
        "\n",
        "    return Q, create_greedy_policy(Q)"
      ],
      "metadata": {
        "id": "f3S4opa82H5y"
      },
      "execution_count": 4,
      "outputs": []
    },
    {
      "cell_type": "code",
      "source": [
        "if __name__ == \"__main__\":\n",
        "    random_policy = create_random_policy(env)\n",
        "\n",
        "    print(\"Evaluating random policy...\")\n",
        "    V = mc_policy_evaluation(random_policy, env, num_episodes=50000)\n",
        "    print(\"Value function for random policy (sample):\")\n",
        "    for i, (state, value) in enumerate(list(V.items())[:10]):\n",
        "        print(f\"State: {state}, Value: {value:.2f}\")\n",
        "\n",
        "    print(\"\\nTraining control policy with epsilon-greedy strategy...\")\n",
        "    Q, greedy_policy = mc_control_epsilon_greedy(env, num_episodes=500000)\n",
        "    print(\"Learned Q-values (sample):\")\n",
        "    for i, (state, actions) in enumerate(list(Q.items())[:10]):\n",
        "        print(f\"State: {state}, Actions: {actions}\")"
      ],
      "metadata": {
        "colab": {
          "base_uri": "https://localhost:8080/"
        },
        "id": "WvRKDDb12Ljo",
        "outputId": "a473da35-a0ae-4cc5-f1d2-a077fa1c2def"
      },
      "execution_count": null,
      "outputs": [
        {
          "output_type": "stream",
          "name": "stdout",
          "text": [
            "Evaluating random policy...\n",
            "Value function for random policy (sample):\n",
            "State: (18, 2, 0), Value: -0.35\n",
            "State: (20, 2, 0), Value: -0.09\n",
            "State: (19, 2, 0), Value: -0.22\n",
            "State: (21, 2, 1), Value: 0.31\n",
            "State: (17, 4, 0), Value: -0.45\n",
            "State: (20, 10, 0), Value: -0.24\n",
            "State: (11, 2, 0), Value: -0.22\n",
            "State: (18, 10, 0), Value: -0.54\n",
            "State: (17, 10, 0), Value: -0.60\n",
            "State: (13, 10, 0), Value: -0.62\n",
            "\n",
            "Training control policy with epsilon-greedy strategy...\n"
          ]
        }
      ]
    }
  ]
}